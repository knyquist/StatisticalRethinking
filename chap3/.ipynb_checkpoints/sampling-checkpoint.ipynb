{
 "cells": [
  {
   "cell_type": "code",
<<<<<<< HEAD
   "execution_count": 132,
=======
   "execution_count": 11,
>>>>>>> ea312af3b211136a414069252c8b95e7cca36795
   "metadata": {},
   "outputs": [],
   "source": [
    "import random\n",
    "import numpy as np\n",
<<<<<<< HEAD
    "from scipy.stats import (binom,\n",
    "                         norm)\n",
=======
    "from scipy.stats import binom\n",
>>>>>>> ea312af3b211136a414069252c8b95e7cca36795
    "\n",
    "import matplotlib.pyplot as plt"
   ]
  },
  {
   "cell_type": "code",
<<<<<<< HEAD
   "execution_count": 180,
   "metadata": {},
   "outputs": [],
   "source": [
    "p_grid = np.arange(0, 1, 0.001)\n",
    "prior = np.ones((len(p_grid), ), dtype=float)\n",
    "#likelihood = binom.pmf(n=9, p=p_grid, k=6)\n",
    "likelihood = norm.pdf(p_grid, loc=0.3, scale=0.1)\n",
    "likelihood += norm.pdf(p_grid, loc=0.6, scale=0.1)\n",
=======
   "execution_count": 105,
   "metadata": {},
   "outputs": [],
   "source": [
    "p_grid = np.arange(0, 1.001, 0.001)\n",
    "prior = np.ones((len(p_grid), ), dtype=float)\n",
    "likelihood = binom.pmf(n=9, p=p_grid, k=6)\n",
>>>>>>> ea312af3b211136a414069252c8b95e7cca36795
    "posterior = likelihood * prior\n",
    "posterior = np.divide(posterior, np.sum(posterior), dtype=float)"
   ]
  },
  {
   "cell_type": "code",
<<<<<<< HEAD
   "execution_count": 181,
=======
   "execution_count": 106,
>>>>>>> ea312af3b211136a414069252c8b95e7cca36795
   "metadata": {},
   "outputs": [
    {
     "data": {
      "text/plain": [
<<<<<<< HEAD
       "<matplotlib.collections.PathCollection at 0x1296af810>"
      ]
     },
     "execution_count": 181,
=======
       "<matplotlib.collections.PathCollection at 0x11781e210>"
      ]
     },
     "execution_count": 106,
>>>>>>> ea312af3b211136a414069252c8b95e7cca36795
     "metadata": {},
     "output_type": "execute_result"
    },
    {
     "data": {
<<<<<<< HEAD
      "image/png": "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\n",
=======
      "image/png": "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\n",
>>>>>>> ea312af3b211136a414069252c8b95e7cca36795
      "text/plain": [
       "<Figure size 432x288 with 1 Axes>"
      ]
     },
     "metadata": {},
     "output_type": "display_data"
    }
   ],
   "source": [
    "plt.scatter(p_grid, posterior)"
   ]
  },
  {
   "cell_type": "code",
<<<<<<< HEAD
   "execution_count": 182,
=======
   "execution_count": 118,
>>>>>>> ea312af3b211136a414069252c8b95e7cca36795
   "metadata": {},
   "outputs": [],
   "source": [
    "def rejection_sample(x, p, size):\n",
    "    \"\"\"\n",
<<<<<<< HEAD
    "    Given an arbitrary distribution, sample from it\n",
    "    by rejection sampling using uniform random\n",
    "    numbers. Function assumes x is sorted.\n",
=======
    "    Given an arbitrary pdf, sample from it by\n",
    "    rejection sampling using uniform random\n",
    "    numbers.\n",
>>>>>>> ea312af3b211136a414069252c8b95e7cca36795
    "    \n",
    "    param p: pmf values\n",
    "    param x: x grid values associated\n",
    "             with each pmf value\n",
    "    param size: number of values to sample\n",
    "    \n",
    "    return samples: random numbers sampled\n",
    "                    from p\n",
    "    \"\"\"\n",
    "    ulow = np.min(x)\n",
    "    uhigh = np.max(x)\n",
    "    umax = np.divide(1, uhigh - ulow, dtype=float)\n",
    "    pmax = np.max(p)\n",
    "    c = np.divide(pmax, umax, dtype=float)\n",
    "    \n",
    "    samples = np.zeros((size, ), dtype=float)\n",
    "    sample_size = 0\n",
    "    while sample_size < size:\n",
    "        u1 = np.random.uniform(low=ulow, high=uhigh)\n",
    "        u2 = np.random.uniform(low=0, high=c)\n",
    "        x_ix = np.searchsorted(x, u1)\n",
    "        px = p[x_ix]\n",
    "        if u2 < px:\n",
    "            samples[sample_size] = u1\n",
    "            sample_size += 1\n",
    "    return samples"
   ]
  },
  {
   "cell_type": "code",
<<<<<<< HEAD
   "execution_count": 192,
   "metadata": {},
   "outputs": [
    {
     "data": {
      "text/plain": [
       "<matplotlib.collections.PathCollection at 0x129f23e50>"
      ]
     },
     "execution_count": 192,
=======
   "execution_count": 119,
   "metadata": {},
   "outputs": [
    {
     "name": "stdout",
     "output_type": "stream",
     "text": [
      "0.0 1.0\n"
     ]
    },
    {
     "data": {
      "text/plain": [
       "<matplotlib.collections.PathCollection at 0x117f66c10>"
      ]
     },
     "execution_count": 119,
>>>>>>> ea312af3b211136a414069252c8b95e7cca36795
     "metadata": {},
     "output_type": "execute_result"
    },
    {
     "data": {
<<<<<<< HEAD
      "image/png": "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\n",
=======
      "image/png": "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\n",
>>>>>>> ea312af3b211136a414069252c8b95e7cca36795
      "text/plain": [
       "<Figure size 432x288 with 1 Axes>"
      ]
     },
     "metadata": {},
     "output_type": "display_data"
    }
   ],
   "source": [
<<<<<<< HEAD
    "samples = rejection_sample(p_grid, posterior, size=1000000)\n",
    "h, b = np.histogram(samples, bins=100)\n",
    "c = b + 0.5*(b[1] - b[0])\n",
    "plt.scatter(c[0:-1], h)"
   ]
  },
  {
   "cell_type": "code",
   "execution_count": 187,
   "metadata": {},
   "outputs": [],
   "source": [
    "samples.tofile(open('bimodal_samples.dat', 'wb'), sep=',')"
   ]
  },
  {
   "cell_type": "code",
   "execution_count": null,
   "metadata": {},
   "outputs": [],
   "source": []
=======
    "samples = rejection_sample(p_grid, posterior, size=10000)\n",
    "h, b = np.histogram(samples)\n",
    "c = b + 0.5*(b[1] - b[0])\n",
    "plt.scatter(c[0:-1], h)"
   ]
>>>>>>> ea312af3b211136a414069252c8b95e7cca36795
  }
 ],
 "metadata": {
  "kernelspec": {
   "display_name": "Python 2",
   "language": "python",
   "name": "python2"
  },
  "language_info": {
   "codemirror_mode": {
    "name": "ipython",
    "version": 2
   },
   "file_extension": ".py",
   "mimetype": "text/x-python",
   "name": "python",
   "nbconvert_exporter": "python",
   "pygments_lexer": "ipython2",
   "version": "2.7.14"
  }
 },
 "nbformat": 4,
 "nbformat_minor": 2
}
