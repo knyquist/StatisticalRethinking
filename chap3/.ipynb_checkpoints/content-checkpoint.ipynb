{
 "cells": [
  {
   "cell_type": "markdown",
   "metadata": {},
   "source": [
    "## Vampire test"
   ]
  },
  {
   "cell_type": "code",
   "execution_count": 2,
   "metadata": {},
   "outputs": [
    {
     "data": {
      "text/html": [
       "0.086837294332724"
      ],
      "text/latex": [
       "0.086837294332724"
      ],
      "text/markdown": [
       "0.086837294332724"
      ],
      "text/plain": [
       "[1] 0.08683729"
      ]
     },
     "metadata": {},
     "output_type": "display_data"
    }
   ],
   "source": [
    "PrPV <- 0.95  # Likelihood\n",
    "PrPM <- 0.01\n",
    "PrV <- 0.001  # Prior\n",
    "PrP <- PrPV*PrV + PrPM*(1-PrV)  # Avg. Likelihood\n",
    "## Calculate PrVP\n",
    "PrVP = (PrPV*PrV)/PrP\n",
    "PrVP"
   ]
  },
  {
   "cell_type": "markdown",
   "metadata": {},
   "source": [
    "## Globe tossing"
   ]
  },
  {
   "cell_type": "code",
   "execution_count": null,
   "metadata": {},
   "outputs": [],
   "source": [
    "p_grid <- seq(from=0, to=1, length.out=1000)\n",
    "prior <- rep(1, 1000)\n",
    "likelihood <- dbinom(6, size=9, prob=p_grid)\n",
    "posterior <- likelihood*prior\n",
    "posterior <- posterior/sum(posterior)\n",
    "## randomly grab samples from the posterior\n",
    "samples <- sample(p_grid, prob=posterior, size=1e4, replace=TRUE)"
   ]
  }
 ],
 "metadata": {
  "kernelspec": {
   "display_name": "R",
   "language": "R",
   "name": "ir"
  },
  "language_info": {
   "codemirror_mode": "r",
   "file_extension": ".r",
   "mimetype": "text/x-r-source",
   "name": "R",
   "pygments_lexer": "r",
   "version": "3.4.3"
  }
 },
 "nbformat": 4,
 "nbformat_minor": 2
}
