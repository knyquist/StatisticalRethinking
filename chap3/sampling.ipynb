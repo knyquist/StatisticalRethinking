{
 "cells": [
  {
   "cell_type": "code",
   "execution_count": 132,
   "metadata": {},
   "outputs": [],
   "source": [
    "import random\n",
    "import numpy as np\n",
    "from scipy.stats import (binom,\n",
    "                         norm)\n",
    "\n",
    "import matplotlib.pyplot as plt"
   ]
  },
  {
   "cell_type": "code",
   "execution_count": 180,
   "metadata": {},
   "outputs": [],
   "source": [
    "p_grid = np.arange(0, 1, 0.001)\n",
    "prior = np.ones((len(p_grid), ), dtype=float)\n",
    "#likelihood = binom.pmf(n=9, p=p_grid, k=6)\n",
    "likelihood = norm.pdf(p_grid, loc=0.3, scale=0.1)\n",
    "likelihood += norm.pdf(p_grid, loc=0.6, scale=0.1)\n",
    "posterior = likelihood * prior\n",
    "posterior = np.divide(posterior, np.sum(posterior), dtype=float)"
   ]
  },
  {
   "cell_type": "code",
   "execution_count": 106,
   "metadata": {},
   "outputs": [
    {
     "data": {
      "text/plain": [
       "<matplotlib.collections.PathCollection at 0x1296af810>"
      ]
     },
     "execution_count": 181,
     "metadata": {},
     "output_type": "execute_result"
    },
    {
     "data": {
      "image/png": "[encoded data removed]",
      "text/plain": [
       "<Figure size 432x288 with 1 Axes>"
      ]
     },
     "metadata": {},
     "output_type": "display_data"
    }
   ],
   "source": [
    "plt.scatter(p_grid, posterior)"
   ]
  },
  {
   "cell_type": "code",
   "execution_count": 182,
   "metadata": {},
   "outputs": [],
   "source": [
    "def rejection_sample(x, p, size):\n",
    "    \"\"\"\n",
    "    Given an arbitrary distribution, sample from it\n",
    "    by rejection sampling using uniform random\n",
    "    numbers. Function assumes x is sorted.\n",
    "    \n",
    "    param p: pmf values\n",
    "    param x: x grid values associated\n",
    "             with each pmf value\n",
    "    param size: number of values to sample\n",
    "    \n",
    "    return samples: random numbers sampled\n",
    "                    from p\n",
    "    \"\"\"\n",
    "    ulow = np.min(x)\n",
    "    uhigh = np.max(x)\n",
    "    umax = np.divide(1, uhigh - ulow, dtype=float)\n",
    "    pmax = np.max(p)\n",
    "    c = np.divide(pmax, umax, dtype=float)\n",
    "    \n",
    "    samples = np.zeros((size, ), dtype=float)\n",
    "    sample_size = 0\n",
    "    while sample_size < size:\n",
    "        u1 = np.random.uniform(low=ulow, high=uhigh)\n",
    "        u2 = np.random.uniform(low=0, high=c)\n",
    "        x_ix = np.searchsorted(x, u1)\n",
    "        px = p[x_ix]\n",
    "        if u2 < px:\n",
    "            samples[sample_size] = u1\n",
    "            sample_size += 1\n",
    "    return samples"
   ]
  },
  {
   "cell_type": "code",
   "execution_count": 192,
   "metadata": {},
   "outputs": [
    {
     "data": {
      "text/plain": [
       "<matplotlib.collections.PathCollection at 0x129f23e50>"
      ]
     },
     "execution_count": 192,
     "metadata": {},
     "output_type": "execute_result"
    },
    {
     "data": {
      "image/png": "[encoded data removed]",
      "text/plain": [
       "<Figure size 432x288 with 1 Axes>"
      ]
     },
     "metadata": {},
     "output_type": "display_data"
    }
   ],
   "source": [
    "samples = rejection_sample(p_grid, posterior, size=1000000)\n",
    "h, b = np.histogram(samples, bins=100)\n",
    "c = b + 0.5*(b[1] - b[0])\n",
    "plt.scatter(c[0:-1], h)"
   ]
  },
  {
   "cell_type": "code",
   "execution_count": 187,
   "metadata": {},
   "outputs": [],
   "source": [
    "samples.tofile(open('bimodal_samples.dat', 'wb'), sep=',')"
   ]
  },
  {
   "cell_type": "code",
   "execution_count": null,
   "metadata": {},
   "outputs": [],
   "source": []
  }
 ],
 "metadata": {
  "kernelspec": {
   "display_name": "Python 2",
   "language": "python",
   "name": "python2"
  },
  "language_info": {
   "codemirror_mode": {
    "name": "ipython",
    "version": 2
   },
   "file_extension": ".py",
   "mimetype": "text/x-python",
   "name": "python",
   "nbconvert_exporter": "python",
   "pygments_lexer": "ipython2",
   "version": "2.7.14"
  }
 },
 "nbformat": 4,
 "nbformat_minor": 2
}
