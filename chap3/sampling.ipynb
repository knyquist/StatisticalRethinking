{
 "cells": [
  {
   "cell_type": "code",
   "execution_count": 11,
   "metadata": {},
   "outputs": [],
   "source": [
    "import random\n",
    "import numpy as np\n",
    "from scipy.stats import binom\n",
    "\n",
    "import matplotlib.pyplot as plt"
   ]
  },
  {
   "cell_type": "code",
   "execution_count": 105,
   "metadata": {},
   "outputs": [],
   "source": [
    "p_grid = np.arange(0, 1.001, 0.001)\n",
    "prior = np.ones((len(p_grid), ), dtype=float)\n",
    "likelihood = binom.pmf(n=9, p=p_grid, k=6)\n",
    "posterior = likelihood * prior\n",
    "posterior = np.divide(posterior, np.sum(posterior), dtype=float)"
   ]
  },
  {
   "cell_type": "code",
   "execution_count": 106,
   "metadata": {},
   "outputs": [
    {
     "data": {
      "text/plain": [
       "<matplotlib.collections.PathCollection at 0x11781e210>"
      ]
     },
     "execution_count": 106,
     "metadata": {},
     "output_type": "execute_result"
    },
    {
     "data": {
      "image/png": "[encoded data removed]",
      "text/plain": [
       "<Figure size 432x288 with 1 Axes>"
      ]
     },
     "metadata": {},
     "output_type": "display_data"
    }
   ],
   "source": [
    "plt.scatter(p_grid, posterior)"
   ]
  },
  {
   "cell_type": "code",
   "execution_count": 118,
   "metadata": {},
   "outputs": [],
   "source": [
    "def rejection_sample(x, p, size):\n",
    "    \"\"\"\n",
    "    Given an arbitrary pdf, sample from it by\n",
    "    rejection sampling using uniform random\n",
    "    numbers.\n",
    "    \n",
    "    param p: pmf values\n",
    "    param x: x grid values associated\n",
    "             with each pmf value\n",
    "    param size: number of values to sample\n",
    "    \n",
    "    return samples: random numbers sampled\n",
    "                    from p\n",
    "    \"\"\"\n",
    "    ulow = np.min(x)\n",
    "    uhigh = np.max(x)\n",
    "    umax = np.divide(1, uhigh - ulow, dtype=float)\n",
    "    pmax = np.max(p)\n",
    "    c = np.divide(pmax, umax, dtype=float)\n",
    "    \n",
    "    samples = np.zeros((size, ), dtype=float)\n",
    "    sample_size = 0\n",
    "    while sample_size < size:\n",
    "        u1 = np.random.uniform(low=ulow, high=uhigh)\n",
    "        u2 = np.random.uniform(low=0, high=c)\n",
    "        x_ix = np.searchsorted(x, u1)\n",
    "        px = p[x_ix]\n",
    "        if u2 < px:\n",
    "            samples[sample_size] = u1\n",
    "            sample_size += 1\n",
    "    return samples"
   ]
  },
  {
   "cell_type": "code",
   "execution_count": 119,
   "metadata": {},
   "outputs": [
    {
     "name": "stdout",
     "output_type": "stream",
     "text": [
      "0.0 1.0\n"
     ]
    },
    {
     "data": {
      "text/plain": [
       "<matplotlib.collections.PathCollection at 0x117f66c10>"
      ]
     },
     "execution_count": 119,
     "metadata": {},
     "output_type": "execute_result"
    },
    {
     "data": {
      "image/png": "[encoded data removed]",
      "text/plain": [
       "<Figure size 432x288 with 1 Axes>"
      ]
     },
     "metadata": {},
     "output_type": "display_data"
    }
   ],
   "source": [
    "samples = rejection_sample(p_grid, posterior, size=10000)\n",
    "h, b = np.histogram(samples)\n",
    "c = b + 0.5*(b[1] - b[0])\n",
    "plt.scatter(c[0:-1], h)"
   ]
  }
 ],
 "metadata": {
  "kernelspec": {
   "display_name": "Python 2",
   "language": "python",
   "name": "python2"
  },
  "language_info": {
   "codemirror_mode": {
    "name": "ipython",
    "version": 2
   },
   "file_extension": ".py",
   "mimetype": "text/x-python",
   "name": "python",
   "nbconvert_exporter": "python",
   "pygments_lexer": "ipython2",
   "version": "2.7.14"
  }
 },
 "nbformat": 4,
 "nbformat_minor": 2
}
